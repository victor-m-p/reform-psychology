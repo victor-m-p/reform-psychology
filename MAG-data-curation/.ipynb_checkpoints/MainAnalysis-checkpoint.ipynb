{
 "cells": [
  {
   "cell_type": "code",
   "execution_count": 1,
   "id": "77a5e0c5",
   "metadata": {},
   "outputs": [
    {
     "data": {
      "text/plain": [
       "'\\nVMP 2022-02-22: \\nkey document for preprocessing main scientific fields. \\ndoing some edits and sanity checking.\\n'"
      ]
     },
     "execution_count": 1,
     "metadata": {},
     "output_type": "execute_result"
    }
   ],
   "source": [
    "'''\n",
    "VMP 2022-02-22: \n",
    "key document for preprocessing main scientific fields. \n",
    "doing some edits and sanity checking.\n",
    "'''"
   ]
  },
  {
   "cell_type": "code",
   "execution_count": 2,
   "id": "47613efe",
   "metadata": {},
   "outputs": [
    {
     "name": "stdout",
     "output_type": "stream",
     "text": [
      "['NAME STATE JOBID', 'cluster_new.job RUNNING 67190', 'cluster_new.job RUNNING 67189', 'main_job RUNNING 67150', 'AHC RUNNING 67090', 'jupyter-notebook RUNNING 67185', 'run_all_benchmarks.job RUNNING 67120', 'countrydata RUNNING 67116', '1.train.1 RUNNING 67164', '1.train.2 RUNNING 67165', '1.train.7 RUNNING 67170', '']\n"
     ]
    }
   ],
   "source": [
    "import sys  \n",
    "sys.path.insert(0, '/home/vicp/reform-psychology/MAG-data-curation')\n",
    "from MAGsparkmasters import get_mag_with_cluster_connection\n",
    "from MAGmasters import MicrosoftAcademicGraph\n",
    "import os\n",
    "from pyspark.sql import functions as F, Window\n",
    "import pandas as pd\n",
    "import matplotlib.pyplot as plt\n",
    "import datetime, time\n",
    "import numpy as np\n",
    "from pyspark.sql.functions import avg\n",
    "os.chdir('/home/vicp/reform-psychology/MAG-data-curation')\n",
    "mag, spark = get_mag_with_cluster_connection(67190, \n",
    "                               memory_per_executor=16000)"
   ]
  },
  {
   "cell_type": "code",
   "execution_count": 3,
   "id": "4a9a85a7",
   "metadata": {},
   "outputs": [
    {
     "data": {
      "text/html": [
       "\n",
       "            <div>\n",
       "                <p><b>SparkSession - in-memory</b></p>\n",
       "                \n",
       "        <div>\n",
       "            <p><b>SparkContext</b></p>\n",
       "\n",
       "            <p><a href=\"http://desktop13.hpc.itu.dk:4040\">Spark UI</a></p>\n",
       "\n",
       "            <dl>\n",
       "              <dt>Version</dt>\n",
       "                <dd><code>v3.0.3</code></dd>\n",
       "              <dt>Master</dt>\n",
       "                <dd><code>spark://172.16.16.102:7078</code></dd>\n",
       "              <dt>AppName</dt>\n",
       "                <dd><code>pyspark-shell</code></dd>\n",
       "            </dl>\n",
       "        </div>\n",
       "        \n",
       "            </div>\n",
       "        "
      ],
      "text/plain": [
       "<pyspark.sql.session.SparkSession at 0x7faa8fd5b370>"
      ]
     },
     "execution_count": 3,
     "metadata": {},
     "output_type": "execute_result"
    }
   ],
   "source": [
    "spark"
   ]
  },
  {
   "cell_type": "markdown",
   "id": "0e05f988",
   "metadata": {},
   "source": [
    "# NormalizedName\n",
    "Create file called *FoS.txt*: <br/>\n",
    "File contains *COLUMNS*: \n",
    "* FieldOfStudyId <int>\n",
    "* NormalizedName <str>\n",
    "* Level <int>"
   ]
  },
  {
   "cell_type": "code",
   "execution_count": 4,
   "id": "7861d8a5",
   "metadata": {},
   "outputs": [],
   "source": [
    "def NormalizedName(): \n",
    "    \n",
    "    # NormalizedName and FieldOfStudyId mapping. \n",
    "    FoS = mag.getSubset(\"FieldsOfStudy\", ['FieldOfStudyId', 'NormalizedName', 'Level']) \\\n",
    "        .distinct() \n",
    "    print(f\"dtypes: {FoS.dtypes}\")\n",
    "    \n",
    "    # write file \n",
    "    mag.saveFile(FoS, \"masters\", \"FoS.txt\")"
   ]
  },
  {
   "cell_type": "code",
   "execution_count": 5,
   "id": "1c1537ae",
   "metadata": {},
   "outputs": [
    {
     "name": "stdout",
     "output_type": "stream",
     "text": [
      "dtypes: [('FieldOfStudyId', 'bigint'), ('NormalizedName', 'string'), ('Level', 'int')]\n"
     ]
    }
   ],
   "source": [
    "NormalizedName()"
   ]
  },
  {
   "cell_type": "markdown",
   "id": "9fed2ead",
   "metadata": {},
   "source": [
    "# Subset by FoS\n",
    "based on a list of fields-of-study, we create subsets."
   ]
  },
  {
   "cell_type": "code",
   "execution_count": 6,
   "id": "1cb786f6",
   "metadata": {},
   "outputs": [],
   "source": [
    "focus_list = ['sociology', 'political science', 'psychology', 'economics']"
   ]
  },
  {
   "cell_type": "code",
   "execution_count": 7,
   "id": "d3c40a89",
   "metadata": {},
   "outputs": [],
   "source": [
    "focus_fos = mag.getDataframe('FoS') \\\n",
    "    .filter(F.col('NormalizedName').isin(focus_list)) \\\n",
    "    .toPandas()"
   ]
  },
  {
   "cell_type": "code",
   "execution_count": 8,
   "id": "36f5c744",
   "metadata": {
    "scrolled": true
   },
   "outputs": [
    {
     "data": {
      "text/html": [
       "<div>\n",
       "<style scoped>\n",
       "    .dataframe tbody tr th:only-of-type {\n",
       "        vertical-align: middle;\n",
       "    }\n",
       "\n",
       "    .dataframe tbody tr th {\n",
       "        vertical-align: top;\n",
       "    }\n",
       "\n",
       "    .dataframe thead th {\n",
       "        text-align: right;\n",
       "    }\n",
       "</style>\n",
       "<table border=\"1\" class=\"dataframe\">\n",
       "  <thead>\n",
       "    <tr style=\"text-align: right;\">\n",
       "      <th></th>\n",
       "      <th>FieldOfStudyId</th>\n",
       "      <th>NormalizedName</th>\n",
       "      <th>Level</th>\n",
       "    </tr>\n",
       "  </thead>\n",
       "  <tbody>\n",
       "    <tr>\n",
       "      <th>0</th>\n",
       "      <td>162324750</td>\n",
       "      <td>economics</td>\n",
       "      <td>0</td>\n",
       "    </tr>\n",
       "    <tr>\n",
       "      <th>1</th>\n",
       "      <td>17744445</td>\n",
       "      <td>political science</td>\n",
       "      <td>0</td>\n",
       "    </tr>\n",
       "    <tr>\n",
       "      <th>2</th>\n",
       "      <td>144024400</td>\n",
       "      <td>sociology</td>\n",
       "      <td>0</td>\n",
       "    </tr>\n",
       "    <tr>\n",
       "      <th>3</th>\n",
       "      <td>15744967</td>\n",
       "      <td>psychology</td>\n",
       "      <td>0</td>\n",
       "    </tr>\n",
       "  </tbody>\n",
       "</table>\n",
       "</div>"
      ],
      "text/plain": [
       "   FieldOfStudyId     NormalizedName  Level\n",
       "0       162324750          economics      0\n",
       "1        17744445  political science      0\n",
       "2       144024400          sociology      0\n",
       "3        15744967         psychology      0"
      ]
     },
     "execution_count": 8,
     "metadata": {},
     "output_type": "execute_result"
    }
   ],
   "source": [
    "focus_fos.head()"
   ]
  },
  {
   "cell_type": "code",
   "execution_count": 9,
   "id": "bbdb6549",
   "metadata": {},
   "outputs": [],
   "source": [
    "## one way of doing it ##\n",
    "# could just inner join & take NormalizedName instead. \n",
    "# actually, at this point we only need PaperId. "
   ]
  },
  {
   "cell_type": "code",
   "execution_count": 10,
   "id": "081a87d6",
   "metadata": {},
   "outputs": [],
   "source": [
    "# create dataframes \n",
    "def fos_papers(fos, name): \n",
    "    # quick preprocessing\n",
    "    pfs = mag.getDataframe('PaperFieldsOfStudy') \\\n",
    "        .filter(F.col('FieldOfStudyId').isin(fos)) \\\n",
    "        .select('PaperId') \\\n",
    "        .distinct() \n",
    "    print(f\"dtypes {name}: {pfs.dtypes}\")\n",
    "    # write file \n",
    "    mag.saveFile(pfs, \"masters\", f\"{name}_papers.txt\")"
   ]
  },
  {
   "cell_type": "code",
   "execution_count": 11,
   "id": "1fadf2a9",
   "metadata": {
    "scrolled": true
   },
   "outputs": [
    {
     "name": "stdout",
     "output_type": "stream",
     "text": [
      "dtypes economics: [('PaperId', 'bigint')]\n",
      "dtypes politicalscience: [('PaperId', 'bigint')]\n",
      "dtypes sociology: [('PaperId', 'bigint')]\n",
      "dtypes psychology: [('PaperId', 'bigint')]\n"
     ]
    }
   ],
   "source": [
    "for index, row in focus_fos.iterrows():\n",
    "    fos_papers(row['FieldOfStudyId'], row['NormalizedName'].replace(\" \", \"\"))"
   ]
  },
  {
   "cell_type": "markdown",
   "id": "86800ed2",
   "metadata": {},
   "source": [
    "# Subset by Year (2005-2021) and DocType (Journal)\n",
    "including 2010 and and 2020. (not including 2021). <br/>\n",
    "only doctype journal. <br/>\n",
    "subset needed to filter PaperReferences. \n",
    "Here, again - we do not need FieldOfStudyId. "
   ]
  },
  {
   "cell_type": "code",
   "execution_count": 12,
   "id": "891197a6",
   "metadata": {},
   "outputs": [],
   "source": [
    "### this works, but two thigns \n",
    "# (1) we do not need FieldOfStuyId - and\n",
    "# (2) we need to write this as a .csv as well"
   ]
  },
  {
   "cell_type": "code",
   "execution_count": 15,
   "id": "b46ff11c",
   "metadata": {},
   "outputs": [],
   "source": [
    "def subset_data(fos): \n",
    "    papers = mag.getDataframe('Papers') # PaperId, DocType, Date, FamilyId. \n",
    "    fos_papers = mag.getDataframe(f'{fos}_papers') # FieldOfStudyID, PaperId\n",
    "    \n",
    "    # filter papers first - core data set. \n",
    "    sub = papers.filter((F.col('DocType') == 'Journal') | (F.col('DocType') == 'Conference')) \\\n",
    "        .filter((F.col('Date') >= datetime.date(2005, 1, 1)) & (F.col('Date') <= datetime.date(2021, 1, 1))) \\\n",
    "        .join(fos_papers, ['PaperId'], 'inner') \\\n",
    "        .select('PaperId', 'FamilyId') \\\n",
    "        .distinct()\n",
    "    print(f\"{fos} dtypes: {sub.dtypes}\")\n",
    "    \n",
    "    mag.saveFile(sub, \"masters\", f\"{fos}_subset.txt\")\n",
    "    sub.toPandas().to_csv(f\"/home/vicp/data/2021-08-02/masters/{fos}_subset.csv\", index=False)"
   ]
  },
  {
   "cell_type": "code",
   "execution_count": 16,
   "id": "b4c19974",
   "metadata": {
    "scrolled": true
   },
   "outputs": [
    {
     "name": "stdout",
     "output_type": "stream",
     "text": [
      "sociology dtypes: [('PaperId', 'bigint'), ('FamilyId', 'bigint')]\n",
      "politicalscience dtypes: [('PaperId', 'bigint'), ('FamilyId', 'bigint')]\n",
      "psychology dtypes: [('PaperId', 'bigint'), ('FamilyId', 'bigint')]\n",
      "economics dtypes: [('PaperId', 'bigint'), ('FamilyId', 'bigint')]\n"
     ]
    }
   ],
   "source": [
    "focus_list = ['sociology', 'politicalscience', 'psychology', 'economics']\n",
    "for fos in focus_list:\n",
    "    subset_data(fos)"
   ]
  },
  {
   "cell_type": "code",
   "execution_count": 17,
   "id": "b2cffcd7",
   "metadata": {},
   "outputs": [],
   "source": [
    "## write to csv ## \n",
    "# really should delete FieldOfStudyId"
   ]
  },
  {
   "cell_type": "markdown",
   "id": "42ed01d7",
   "metadata": {},
   "source": [
    "# PaperReferences (v2)"
   ]
  },
  {
   "cell_type": "code",
   "execution_count": 18,
   "id": "b5181d51",
   "metadata": {},
   "outputs": [],
   "source": [
    "# this works "
   ]
  },
  {
   "cell_type": "code",
   "execution_count": 21,
   "id": "ca018388",
   "metadata": {},
   "outputs": [],
   "source": [
    "def get_citation_reference(fos):\n",
    "    '''\n",
    "    ## input\n",
    "    fos: field of study (without space)\n",
    "    \n",
    "    ## output / save\n",
    "    {fos}_reference_or_citation.txt: <folder> one column of PaperId that either is reference or citation of fos. \n",
    "    {fos}_citation: <csv> the subset of PaperReferences (two columns) -- where the fos cites other articles. \n",
    "    {fos}_reference: <csv> the subset of PaperReferences (two columns) -- where the fos are references by other articles.\n",
    "    '''\n",
    "    \n",
    "    # load files\n",
    "    pr = mag.getDataframe('PaperReferences')\n",
    "    fos_subset = mag.getDataframe(f'{fos}_subset').select('PaperId')\n",
    "    \n",
    "    ## the papers that cite our focus papers\n",
    "    ## i.e. our papers have to be PaperReferenceId (no?) --> should be LEFT\n",
    "    reference = fos_subset.withColumnRenamed('PaperId', 'PaperReferenceId') \\\n",
    "        .join(pr, ['PaperReferenceId'], \"inner\") \\\n",
    "        .distinct()\n",
    "    \n",
    "\n",
    "    ## this should give us all papers (we will gather meta-data for this): \n",
    "    # (1) FoS: from particular field of study (from fos_subset)\n",
    "    # (2) those that have selected field of study as reference (from reference)\n",
    "    # need to combine both to get (1) references, but also (2) psychology papers with no citations. \n",
    "    papers_total = reference.select('PaperId').join(fos_subset, 'PaperId', 'outer').distinct()\n",
    "\n",
    "    # save stuff\n",
    "    print(f\"{fos} papers_total: {papers_total.dtypes}\")\n",
    "    mag.saveFile(papers_total, \"masters\", f\"{fos}_total.txt\")\n",
    "    reference.toPandas().to_csv(f\"/home/vicp/data/2021-08-02/masters/{fos}_reference.csv\", index = False)"
   ]
  },
  {
   "cell_type": "code",
   "execution_count": null,
   "id": "ab608411",
   "metadata": {
    "scrolled": false
   },
   "outputs": [
    {
     "name": "stdout",
     "output_type": "stream",
     "text": [
      "psychology papers_total: [('PaperId', 'bigint')]\n",
      "sociology papers_total: [('PaperId', 'bigint')]\n"
     ]
    }
   ],
   "source": [
    "focus_list = ['psychology', 'sociology', 'politicalscience', 'economics']\n",
    "for fos in focus_list:\n",
    "    get_citation_reference(fos)"
   ]
  },
  {
   "cell_type": "markdown",
   "id": "a6d6a25d",
   "metadata": {},
   "source": [
    "# Add Field Of Study to papers we care about"
   ]
  },
  {
   "cell_type": "markdown",
   "id": "7018c293",
   "metadata": {},
   "source": [
    "# metadata\n",
    "we add metadata to the subsetted fields. <br/>\n",
    "we should enforce no na in PaperId & Date (at least) <br/>\n",
    "NB: we loose a bit of data in .filter(F.col('Level') == 0) as not all studies have a level 0. <br/>\n",
    "NB: some studies also do not have any match in PaperFieldOfStudy. <br/>\n",
    "NB: I think generally studies that were hard to classify and are fine to leave out (filtered on Ucloud). <br/>\n",
    "I filter out some papers based on Max Score (i.e. papers with more than one top-level field of study I take the one that MAG is most confident of - e.g. Psychology: 0.73, Biology: 0.51 I take Psychology): <br/>\n",
    "https://stackoverflow.com/questions/48829993/groupby-column-and-filter-rows-with-maximum-value-in-pyspark"
   ]
  },
  {
   "cell_type": "code",
   "execution_count": null,
   "id": "962e0087",
   "metadata": {},
   "outputs": [],
   "source": [
    "def get_metadata_papers(fos):\n",
    "    \n",
    "    # load files \n",
    "    papers = mag.getSubset('Papers', ['PaperId', 'PaperTitle', 'DocType', 'Date', 'FamilyId']) \n",
    "    fos_papers = mag.getDataframe(f'{fos}_total') # PaperId\n",
    "    pfs = mag.getDataframe('PaperFieldsOfStudy') # couples PaperId and FieldOfStudyId\n",
    "    FoS = mag.getDataframe('FoS') # couples FieldOfStudyId and NormalizedName\n",
    "    \n",
    "    # window \n",
    "    w = Window.partitionBy('PaperId')\n",
    "    \n",
    "    # filter papers first - core data set. \n",
    "    fos_papers.join(papers, ['PaperId'], 'inner') \\\n",
    "        .join(pfs, ['PaperId'], 'inner') \\\n",
    "        .join(FoS, ['FieldOfStudyId'], 'inner') \\\n",
    "        .filter(F.col('Level') == 0) \\\n",
    "        .withColumn('MaxScore', F.max('Score').over(w)) \\\n",
    "        .where(F.col('Score') == F.col('MaxScore')) \\\n",
    "        .select('PaperId', 'FamilyId', 'PaperTitle', 'Date', 'DocType', 'NormalizedName') \\\n",
    "        .distinct() \\\n",
    "        .toPandas() \\\n",
    "        .to_csv(f\"/home/vicp/data/2021-08-02/masters/{fos}_paper_meta_clean.csv\", index = False)\n",
    "    print(f\"-- finished processing {fos}\")\n",
    "    "
   ]
  },
  {
   "cell_type": "code",
   "execution_count": null,
   "id": "663c9110",
   "metadata": {
    "scrolled": false
   },
   "outputs": [],
   "source": [
    "focus_list = ['psychology', 'sociology', 'politicalscience', 'economics']\n",
    "for fos in focus_list: \n",
    "    get_metadata_papers(fos)"
   ]
  },
  {
   "cell_type": "code",
   "execution_count": null,
   "id": "11961833",
   "metadata": {},
   "outputs": [],
   "source": [
    "# in the below we could consider only adding meta-data to the records in \"meta\". "
   ]
  },
  {
   "cell_type": "code",
   "execution_count": null,
   "id": "ca0de6ad",
   "metadata": {},
   "outputs": [],
   "source": [
    "def get_paper_author(fos): \n",
    "    # load relevant data\n",
    "    fos_papers = mag.getDataframe(f'{fos}_total') # PaperId\n",
    "    author_affiliations = mag.getSubset('PaperAuthorAffiliations', ['PaperId', 'AuthorId']) # PaperId, AuthorId. \n",
    "    \n",
    "    # inner join\n",
    "    fos_papers.join(author_affiliations, ['PaperId'], \"inner\") \\\n",
    "        .distinct() \\\n",
    "        .toPandas() \\\n",
    "        .to_csv(f\"/home/vicp/data/2021-08-02/masters/{fos}_paper_author.csv\", index = False)\n",
    "    print(f\"-- finished processing {fos}\")"
   ]
  },
  {
   "cell_type": "code",
   "execution_count": null,
   "id": "cbd30862",
   "metadata": {},
   "outputs": [],
   "source": [
    "focus_list = ['psychology', 'sociology', 'politicalscience', 'economics']\n",
    "for fos in focus_list: \n",
    "    get_paper_author(fos)"
   ]
  }
 ],
 "metadata": {
  "kernelspec": {
   "display_name": "Python (nerdenv)",
   "language": "python",
   "name": "nerdenv"
  },
  "language_info": {
   "codemirror_mode": {
    "name": "ipython",
    "version": 3
   },
   "file_extension": ".py",
   "mimetype": "text/x-python",
   "name": "python",
   "nbconvert_exporter": "python",
   "pygments_lexer": "ipython3",
   "version": "3.8.8"
  }
 },
 "nbformat": 4,
 "nbformat_minor": 5
}
