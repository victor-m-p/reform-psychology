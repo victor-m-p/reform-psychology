{
 "cells": [
  {
   "cell_type": "code",
   "execution_count": 1,
   "id": "079ff40a",
   "metadata": {},
   "outputs": [
    {
     "data": {
      "text/plain": [
       "'\\nVMP 2022-02-24: \\nChecking fraction of publications getting from preprint to publication stage. \\nUsing early preprocessing from \"preprocessing\". \\n'"
      ]
     },
     "execution_count": 1,
     "metadata": {},
     "output_type": "execute_result"
    }
   ],
   "source": [
    "'''\n",
    "VMP 2022-02-24: \n",
    "Checking fraction of publications getting from preprint to publication stage. \n",
    "Using early preprocessing from \"preprocessing\". \n",
    "'''"
   ]
  },
  {
   "cell_type": "code",
   "execution_count": 2,
   "id": "3a5aba02",
   "metadata": {},
   "outputs": [
    {
     "name": "stdout",
     "output_type": "stream",
     "text": [
      "['NAME STATE JOBID', 'main_job PENDING 66636', 'smaller PENDING 66656', 'cluster_new.job RUNNING 66655', 'cluster_new.job RUNNING 66653', 'cluster_new.job RUNNING 66650', 'main_job RUNNING 66634', 'resnet50-5-epochs-cn4 RUNNING 66654', 'jupyter-notebook RUNNING 66649', 'tpcx-ai_benchmark.job RUNNING 66629', 'train-gan RUNNING 66518', '3.deberta.0 RUNNING 66631', '3.deberta.1 RUNNING 66630', 'small.2 RUNNING 66546', '']\n"
     ]
    }
   ],
   "source": [
    "import sys  \n",
    "sys.path.insert(0, '/home/vicp')\n",
    "from MAGsparkmasters import get_mag_with_cluster_connection\n",
    "from MAGmasters import MicrosoftAcademicGraph\n",
    "import os\n",
    "from pyspark.sql import functions as F, Window\n",
    "import pandas as pd\n",
    "import matplotlib.pyplot as plt\n",
    "import datetime, time\n",
    "import numpy as np\n",
    "from pyspark.sql.functions import avg\n",
    "os.chdir('/home/vicp')\n",
    "mag, spark = get_mag_with_cluster_connection(66655, \n",
    "                               memory_per_executor=16000)"
   ]
  },
  {
   "cell_type": "code",
   "execution_count": 3,
   "id": "30e5117d",
   "metadata": {},
   "outputs": [
    {
     "data": {
      "text/html": [
       "\n",
       "            <div>\n",
       "                <p><b>SparkSession - in-memory</b></p>\n",
       "                \n",
       "        <div>\n",
       "            <p><b>SparkContext</b></p>\n",
       "\n",
       "            <p><a href=\"http://desktop12.hpc.itu.dk:4041\">Spark UI</a></p>\n",
       "\n",
       "            <dl>\n",
       "              <dt>Version</dt>\n",
       "                <dd><code>v3.0.3</code></dd>\n",
       "              <dt>Master</dt>\n",
       "                <dd><code>spark://172.16.16.106:7077</code></dd>\n",
       "              <dt>AppName</dt>\n",
       "                <dd><code>pyspark-shell</code></dd>\n",
       "            </dl>\n",
       "        </div>\n",
       "        \n",
       "            </div>\n",
       "        "
      ],
      "text/plain": [
       "<pyspark.sql.session.SparkSession at 0x7fedd5d963d0>"
      ]
     },
     "execution_count": 3,
     "metadata": {},
     "output_type": "execute_result"
    }
   ],
   "source": [
    "spark"
   ]
  },
  {
   "cell_type": "markdown",
   "id": "1216ecb9",
   "metadata": {},
   "source": [
    "# Load data\n",
    "Data-sets curated in \"preprocessing\". <br/>\n",
    "Taking the full data-sets for psychology, economy, sociology and political science. "
   ]
  },
  {
   "cell_type": "code",
   "execution_count": 4,
   "id": "85b417b7",
   "metadata": {},
   "outputs": [],
   "source": [
    "psychology = mag.getDataframe('psychology_total')"
   ]
  },
  {
   "cell_type": "code",
   "execution_count": 5,
   "id": "f75944c2",
   "metadata": {},
   "outputs": [],
   "source": [
    "papers = mag.getDataframe('Papers')"
   ]
  },
  {
   "cell_type": "markdown",
   "id": "9d4be6cb",
   "metadata": {},
   "source": [
    "# Select preprint data\n",
    "only to 2020 because there can be delay from preprint to publication. "
   ]
  },
  {
   "cell_type": "code",
   "execution_count": 7,
   "id": "f9c4da3c",
   "metadata": {},
   "outputs": [],
   "source": [
    "psychology_preprints = papers.join(psychology, ['PaperId'], 'inner') \\\n",
    "    .filter(F.col('DocType') == 'Repository') \\\n",
    "    .filter((F.col('Date') >= datetime.date(2005, 1, 1)) & (F.col('Date') <= datetime.date(2020, 1, 1))) \\\n",
    "    .select('PaperId', 'FamilyId', 'PaperTitle', 'DocType', 'Date') \\\n",
    "    .distinct()"
   ]
  },
  {
   "cell_type": "markdown",
   "id": "c846c6d1",
   "metadata": {},
   "source": [
    "# Join by FamilyId"
   ]
  },
  {
   "cell_type": "code",
   "execution_count": 9,
   "id": "bebf0c3d",
   "metadata": {},
   "outputs": [],
   "source": [
    "psychology_selection = psychology_preprints.select('FamilyId') \\\n",
    "    .join(papers, ['FamilyId'], 'inner') \\\n",
    "    .select('PaperId', 'FamilyId', 'PaperTitle', 'DocType', 'Date') \\\n",
    "    .distinct() \\\n",
    "    .toPandas() \\\n",
    "    .to_csv(\"/home/vicp/data/2021-08-02/masters/psychology_preprints.csv\", index = False)"
   ]
  },
  {
   "cell_type": "markdown",
   "id": "eccdecaa",
   "metadata": {},
   "source": [
    "# Quick data check (before Ucloud)"
   ]
  },
  {
   "cell_type": "markdown",
   "id": "ec38737f",
   "metadata": {},
   "source": [
    "## General sanity check & cleaning"
   ]
  },
  {
   "cell_type": "code",
   "execution_count": 1,
   "id": "7a1c2372",
   "metadata": {},
   "outputs": [],
   "source": [
    "import pandas as pd\n",
    "psych = pd.read_csv(\"/home/vicp/data/2021-08-02/masters/psychology_preprints.csv\")"
   ]
  },
  {
   "cell_type": "code",
   "execution_count": 4,
   "id": "346d7afc",
   "metadata": {},
   "outputs": [
    {
     "data": {
      "text/html": [
       "<div>\n",
       "<style scoped>\n",
       "    .dataframe tbody tr th:only-of-type {\n",
       "        vertical-align: middle;\n",
       "    }\n",
       "\n",
       "    .dataframe tbody tr th {\n",
       "        vertical-align: top;\n",
       "    }\n",
       "\n",
       "    .dataframe thead th {\n",
       "        text-align: right;\n",
       "    }\n",
       "</style>\n",
       "<table border=\"1\" class=\"dataframe\">\n",
       "  <thead>\n",
       "    <tr style=\"text-align: right;\">\n",
       "      <th></th>\n",
       "      <th>PaperId</th>\n",
       "      <th>FamilyId</th>\n",
       "      <th>PaperTitle</th>\n",
       "      <th>DocType</th>\n",
       "      <th>Date</th>\n",
       "    </tr>\n",
       "  </thead>\n",
       "  <tbody>\n",
       "    <tr>\n",
       "      <th>0</th>\n",
       "      <td>16083728</td>\n",
       "      <td>16083728</td>\n",
       "      <td>the virtue ethics hypothesis is there a nexus ...</td>\n",
       "      <td>Repository</td>\n",
       "      <td>2013-01-01</td>\n",
       "    </tr>\n",
       "    <tr>\n",
       "      <th>1</th>\n",
       "      <td>3123588271</td>\n",
       "      <td>16083728</td>\n",
       "      <td>the virtue ethics hypothesis is there a nexus ...</td>\n",
       "      <td>Repository</td>\n",
       "      <td>2013-01-01</td>\n",
       "    </tr>\n",
       "    <tr>\n",
       "      <th>2</th>\n",
       "      <td>64646616</td>\n",
       "      <td>64646616</td>\n",
       "      <td>how often to a museum motivations matter</td>\n",
       "      <td>Repository</td>\n",
       "      <td>2014-08-01</td>\n",
       "    </tr>\n",
       "    <tr>\n",
       "      <th>3</th>\n",
       "      <td>3121719317</td>\n",
       "      <td>64646616</td>\n",
       "      <td>how often to a museum motivations matter</td>\n",
       "      <td>Repository</td>\n",
       "      <td>2014-01-01</td>\n",
       "    </tr>\n",
       "    <tr>\n",
       "      <th>4</th>\n",
       "      <td>2952193591</td>\n",
       "      <td>81493280</td>\n",
       "      <td>ambiguous proximity distribution</td>\n",
       "      <td>Repository</td>\n",
       "      <td>2014-06-02</td>\n",
       "    </tr>\n",
       "  </tbody>\n",
       "</table>\n",
       "</div>"
      ],
      "text/plain": [
       "      PaperId  FamilyId                                         PaperTitle  \\\n",
       "0    16083728  16083728  the virtue ethics hypothesis is there a nexus ...   \n",
       "1  3123588271  16083728  the virtue ethics hypothesis is there a nexus ...   \n",
       "2    64646616  64646616           how often to a museum motivations matter   \n",
       "3  3121719317  64646616           how often to a museum motivations matter   \n",
       "4  2952193591  81493280                   ambiguous proximity distribution   \n",
       "\n",
       "      DocType        Date  \n",
       "0  Repository  2013-01-01  \n",
       "1  Repository  2013-01-01  \n",
       "2  Repository  2014-08-01  \n",
       "3  Repository  2014-01-01  \n",
       "4  Repository  2014-06-02  "
      ]
     },
     "execution_count": 4,
     "metadata": {},
     "output_type": "execute_result"
    }
   ],
   "source": [
    "# looks good (should maybe have gathered field of study as well)\n",
    "psych.head(5)"
   ]
  },
  {
   "cell_type": "code",
   "execution_count": 6,
   "id": "c043f44c",
   "metadata": {},
   "outputs": [
    {
     "data": {
      "text/html": [
       "<div>\n",
       "<style scoped>\n",
       "    .dataframe tbody tr th:only-of-type {\n",
       "        vertical-align: middle;\n",
       "    }\n",
       "\n",
       "    .dataframe tbody tr th {\n",
       "        vertical-align: top;\n",
       "    }\n",
       "\n",
       "    .dataframe thead th {\n",
       "        text-align: right;\n",
       "    }\n",
       "</style>\n",
       "<table border=\"1\" class=\"dataframe\">\n",
       "  <thead>\n",
       "    <tr style=\"text-align: right;\">\n",
       "      <th></th>\n",
       "      <th>DocType</th>\n",
       "      <th>overall_fraction</th>\n",
       "    </tr>\n",
       "  </thead>\n",
       "  <tbody>\n",
       "    <tr>\n",
       "      <th>0</th>\n",
       "      <td>Book</td>\n",
       "      <td>31</td>\n",
       "    </tr>\n",
       "    <tr>\n",
       "      <th>1</th>\n",
       "      <td>BookChapter</td>\n",
       "      <td>44</td>\n",
       "    </tr>\n",
       "    <tr>\n",
       "      <th>2</th>\n",
       "      <td>Conference</td>\n",
       "      <td>4779</td>\n",
       "    </tr>\n",
       "    <tr>\n",
       "      <th>3</th>\n",
       "      <td>Dataset</td>\n",
       "      <td>1</td>\n",
       "    </tr>\n",
       "    <tr>\n",
       "      <th>4</th>\n",
       "      <td>Journal</td>\n",
       "      <td>20597</td>\n",
       "    </tr>\n",
       "    <tr>\n",
       "      <th>5</th>\n",
       "      <td>Repository</td>\n",
       "      <td>46844</td>\n",
       "    </tr>\n",
       "    <tr>\n",
       "      <th>6</th>\n",
       "      <td>Thesis</td>\n",
       "      <td>3</td>\n",
       "    </tr>\n",
       "  </tbody>\n",
       "</table>\n",
       "</div>"
      ],
      "text/plain": [
       "       DocType  overall_fraction\n",
       "0         Book                31\n",
       "1  BookChapter                44\n",
       "2   Conference              4779\n",
       "3      Dataset                 1\n",
       "4      Journal             20597\n",
       "5   Repository             46844\n",
       "6       Thesis                 3"
      ]
     },
     "execution_count": 6,
     "metadata": {},
     "output_type": "execute_result"
    }
   ],
   "source": [
    "# there are some preprints that end up being published as e.g. book\n",
    "psych.groupby('DocType').size().reset_index(name = 'overall_fraction')"
   ]
  },
  {
   "cell_type": "code",
   "execution_count": 7,
   "id": "7fc982ac",
   "metadata": {},
   "outputs": [],
   "source": [
    "# filter out everything besides Repository, Conference and Journal"
   ]
  },
  {
   "cell_type": "code",
   "execution_count": 8,
   "id": "acc40aeb",
   "metadata": {},
   "outputs": [],
   "source": [
    "psych_clean = psych[psych[\"DocType\"].isin([\"Repository\", \"Conference\", \"Journal\"])]"
   ]
  },
  {
   "cell_type": "code",
   "execution_count": 10,
   "id": "d30007a9",
   "metadata": {},
   "outputs": [
    {
     "data": {
      "text/html": [
       "<div>\n",
       "<style scoped>\n",
       "    .dataframe tbody tr th:only-of-type {\n",
       "        vertical-align: middle;\n",
       "    }\n",
       "\n",
       "    .dataframe tbody tr th {\n",
       "        vertical-align: top;\n",
       "    }\n",
       "\n",
       "    .dataframe thead th {\n",
       "        text-align: right;\n",
       "    }\n",
       "</style>\n",
       "<table border=\"1\" class=\"dataframe\">\n",
       "  <thead>\n",
       "    <tr style=\"text-align: right;\">\n",
       "      <th></th>\n",
       "      <th>DocType</th>\n",
       "      <th>overall_fraction</th>\n",
       "    </tr>\n",
       "  </thead>\n",
       "  <tbody>\n",
       "    <tr>\n",
       "      <th>0</th>\n",
       "      <td>Conference</td>\n",
       "      <td>4779</td>\n",
       "    </tr>\n",
       "    <tr>\n",
       "      <th>1</th>\n",
       "      <td>Journal</td>\n",
       "      <td>20597</td>\n",
       "    </tr>\n",
       "    <tr>\n",
       "      <th>2</th>\n",
       "      <td>Repository</td>\n",
       "      <td>46844</td>\n",
       "    </tr>\n",
       "  </tbody>\n",
       "</table>\n",
       "</div>"
      ],
      "text/plain": [
       "      DocType  overall_fraction\n",
       "0  Conference              4779\n",
       "1     Journal             20597\n",
       "2  Repository             46844"
      ]
     },
     "execution_count": 10,
     "metadata": {},
     "output_type": "execute_result"
    }
   ],
   "source": [
    "psych_clean.groupby('DocType').size().reset_index(name = 'overall_fraction')"
   ]
  },
  {
   "cell_type": "code",
   "execution_count": 11,
   "id": "2e92eaab",
   "metadata": {},
   "outputs": [],
   "source": [
    "# now check how many FamilyId is in more than just preprint \n",
    "# a paper can (apparently) be publised multiple times as preprint\n",
    "# should also be careful that a paper might be published in both Journal and Conference after repo. "
   ]
  },
  {
   "cell_type": "code",
   "execution_count": 14,
   "id": "c95f8531",
   "metadata": {},
   "outputs": [],
   "source": [
    "psych_pairs = psych_clean[[\"FamilyId\", \"PaperTitle\", \"DocType\"]].drop_duplicates()"
   ]
  },
  {
   "cell_type": "code",
   "execution_count": 25,
   "id": "1f3741ba",
   "metadata": {},
   "outputs": [
    {
     "data": {
      "text/html": [
       "<div>\n",
       "<style scoped>\n",
       "    .dataframe tbody tr th:only-of-type {\n",
       "        vertical-align: middle;\n",
       "    }\n",
       "\n",
       "    .dataframe tbody tr th {\n",
       "        vertical-align: top;\n",
       "    }\n",
       "\n",
       "    .dataframe thead th {\n",
       "        text-align: right;\n",
       "    }\n",
       "</style>\n",
       "<table border=\"1\" class=\"dataframe\">\n",
       "  <thead>\n",
       "    <tr style=\"text-align: right;\">\n",
       "      <th></th>\n",
       "      <th>FamilyId</th>\n",
       "      <th>PaperTitle</th>\n",
       "      <th>DocType</th>\n",
       "    </tr>\n",
       "  </thead>\n",
       "  <tbody>\n",
       "    <tr>\n",
       "      <th>0</th>\n",
       "      <td>16083728</td>\n",
       "      <td>the virtue ethics hypothesis is there a nexus ...</td>\n",
       "      <td>Repository</td>\n",
       "    </tr>\n",
       "    <tr>\n",
       "      <th>2</th>\n",
       "      <td>64646616</td>\n",
       "      <td>how often to a museum motivations matter</td>\n",
       "      <td>Repository</td>\n",
       "    </tr>\n",
       "    <tr>\n",
       "      <th>4</th>\n",
       "      <td>81493280</td>\n",
       "      <td>ambiguous proximity distribution</td>\n",
       "      <td>Repository</td>\n",
       "    </tr>\n",
       "    <tr>\n",
       "      <th>5</th>\n",
       "      <td>81493280</td>\n",
       "      <td>ambiguous proximity distribution</td>\n",
       "      <td>Conference</td>\n",
       "    </tr>\n",
       "    <tr>\n",
       "      <th>6</th>\n",
       "      <td>99661415</td>\n",
       "      <td>becker meets ricardo a social and cognitive sk...</td>\n",
       "      <td>Repository</td>\n",
       "    </tr>\n",
       "  </tbody>\n",
       "</table>\n",
       "</div>"
      ],
      "text/plain": [
       "   FamilyId                                         PaperTitle     DocType\n",
       "0  16083728  the virtue ethics hypothesis is there a nexus ...  Repository\n",
       "2  64646616           how often to a museum motivations matter  Repository\n",
       "4  81493280                   ambiguous proximity distribution  Repository\n",
       "5  81493280                   ambiguous proximity distribution  Conference\n",
       "6  99661415  becker meets ricardo a social and cognitive sk...  Repository"
      ]
     },
     "execution_count": 25,
     "metadata": {},
     "output_type": "execute_result"
    }
   ],
   "source": [
    "psych_pairs.head(5)"
   ]
  },
  {
   "cell_type": "code",
   "execution_count": null,
   "id": "4a1acc7d",
   "metadata": {},
   "outputs": [],
   "source": [
    "# check that all of the single ones are repostory (yes)"
   ]
  },
  {
   "cell_type": "code",
   "execution_count": 30,
   "id": "91d455ba",
   "metadata": {},
   "outputs": [],
   "source": [
    "psych_control = psych_pairs.drop_duplicates('FamilyId', keep=False)"
   ]
  },
  {
   "cell_type": "code",
   "execution_count": 31,
   "id": "e81d6194",
   "metadata": {},
   "outputs": [
    {
     "data": {
      "text/plain": [
       "DocType\n",
       "Repository    9587\n",
       "dtype: int64"
      ]
     },
     "execution_count": 31,
     "metadata": {},
     "output_type": "execute_result"
    }
   ],
   "source": [
    "psych_control.groupby('DocType').size()"
   ]
  },
  {
   "cell_type": "markdown",
   "id": "4b63a63f",
   "metadata": {},
   "source": [
    "# check overall "
   ]
  },
  {
   "cell_type": "code",
   "execution_count": 23,
   "id": "06bc072e",
   "metadata": {},
   "outputs": [],
   "source": [
    "psych_overall = psych_pairs.groupby('FamilyId').size().reset_index(name = 'n_family').groupby('n_family').size().reset_index(name = 'occurence')"
   ]
  },
  {
   "cell_type": "code",
   "execution_count": 24,
   "id": "de90189f",
   "metadata": {},
   "outputs": [
    {
     "data": {
      "text/html": [
       "<div>\n",
       "<style scoped>\n",
       "    .dataframe tbody tr th:only-of-type {\n",
       "        vertical-align: middle;\n",
       "    }\n",
       "\n",
       "    .dataframe tbody tr th {\n",
       "        vertical-align: top;\n",
       "    }\n",
       "\n",
       "    .dataframe thead th {\n",
       "        text-align: right;\n",
       "    }\n",
       "</style>\n",
       "<table border=\"1\" class=\"dataframe\">\n",
       "  <thead>\n",
       "    <tr style=\"text-align: right;\">\n",
       "      <th></th>\n",
       "      <th>n_family</th>\n",
       "      <th>occurence</th>\n",
       "    </tr>\n",
       "  </thead>\n",
       "  <tbody>\n",
       "    <tr>\n",
       "      <th>0</th>\n",
       "      <td>1</td>\n",
       "      <td>9587</td>\n",
       "    </tr>\n",
       "    <tr>\n",
       "      <th>1</th>\n",
       "      <td>2</td>\n",
       "      <td>24554</td>\n",
       "    </tr>\n",
       "    <tr>\n",
       "      <th>2</th>\n",
       "      <td>3</td>\n",
       "      <td>544</td>\n",
       "    </tr>\n",
       "    <tr>\n",
       "      <th>3</th>\n",
       "      <td>4</td>\n",
       "      <td>66</td>\n",
       "    </tr>\n",
       "    <tr>\n",
       "      <th>4</th>\n",
       "      <td>5</td>\n",
       "      <td>16</td>\n",
       "    </tr>\n",
       "    <tr>\n",
       "      <th>5</th>\n",
       "      <td>6</td>\n",
       "      <td>5</td>\n",
       "    </tr>\n",
       "    <tr>\n",
       "      <th>6</th>\n",
       "      <td>7</td>\n",
       "      <td>1</td>\n",
       "    </tr>\n",
       "  </tbody>\n",
       "</table>\n",
       "</div>"
      ],
      "text/plain": [
       "   n_family  occurence\n",
       "0         1       9587\n",
       "1         2      24554\n",
       "2         3        544\n",
       "3         4         66\n",
       "4         5         16\n",
       "5         6          5\n",
       "6         7          1"
      ]
     },
     "execution_count": 24,
     "metadata": {},
     "output_type": "execute_result"
    }
   ],
   "source": [
    "psych_overall"
   ]
  },
  {
   "cell_type": "code",
   "execution_count": 26,
   "id": "970edd5a",
   "metadata": {},
   "outputs": [],
   "source": [
    "# gathered n_family = 1 against everything else. "
   ]
  },
  {
   "cell_type": "code",
   "execution_count": 33,
   "id": "ae269d9f",
   "metadata": {},
   "outputs": [],
   "source": [
    "psych_fraction = psych_overall.assign(fraction = lambda x: x[\"occurence\"]/sum(x[\"occurence\"]))"
   ]
  },
  {
   "cell_type": "code",
   "execution_count": 34,
   "id": "8c158510",
   "metadata": {},
   "outputs": [
    {
     "data": {
      "text/html": [
       "<div>\n",
       "<style scoped>\n",
       "    .dataframe tbody tr th:only-of-type {\n",
       "        vertical-align: middle;\n",
       "    }\n",
       "\n",
       "    .dataframe tbody tr th {\n",
       "        vertical-align: top;\n",
       "    }\n",
       "\n",
       "    .dataframe thead th {\n",
       "        text-align: right;\n",
       "    }\n",
       "</style>\n",
       "<table border=\"1\" class=\"dataframe\">\n",
       "  <thead>\n",
       "    <tr style=\"text-align: right;\">\n",
       "      <th></th>\n",
       "      <th>n_family</th>\n",
       "      <th>occurence</th>\n",
       "      <th>fraction</th>\n",
       "    </tr>\n",
       "  </thead>\n",
       "  <tbody>\n",
       "    <tr>\n",
       "      <th>0</th>\n",
       "      <td>1</td>\n",
       "      <td>9587</td>\n",
       "      <td>0.275702</td>\n",
       "    </tr>\n",
       "    <tr>\n",
       "      <th>1</th>\n",
       "      <td>2</td>\n",
       "      <td>24554</td>\n",
       "      <td>0.706123</td>\n",
       "    </tr>\n",
       "    <tr>\n",
       "      <th>2</th>\n",
       "      <td>3</td>\n",
       "      <td>544</td>\n",
       "      <td>0.015644</td>\n",
       "    </tr>\n",
       "    <tr>\n",
       "      <th>3</th>\n",
       "      <td>4</td>\n",
       "      <td>66</td>\n",
       "      <td>0.001898</td>\n",
       "    </tr>\n",
       "    <tr>\n",
       "      <th>4</th>\n",
       "      <td>5</td>\n",
       "      <td>16</td>\n",
       "      <td>0.000460</td>\n",
       "    </tr>\n",
       "    <tr>\n",
       "      <th>5</th>\n",
       "      <td>6</td>\n",
       "      <td>5</td>\n",
       "      <td>0.000144</td>\n",
       "    </tr>\n",
       "    <tr>\n",
       "      <th>6</th>\n",
       "      <td>7</td>\n",
       "      <td>1</td>\n",
       "      <td>0.000029</td>\n",
       "    </tr>\n",
       "  </tbody>\n",
       "</table>\n",
       "</div>"
      ],
      "text/plain": [
       "   n_family  occurence  fraction\n",
       "0         1       9587  0.275702\n",
       "1         2      24554  0.706123\n",
       "2         3        544  0.015644\n",
       "3         4         66  0.001898\n",
       "4         5         16  0.000460\n",
       "5         6          5  0.000144\n",
       "6         7          1  0.000029"
      ]
     },
     "execution_count": 34,
     "metadata": {},
     "output_type": "execute_result"
    }
   ],
   "source": [
    "psych_fraction"
   ]
  },
  {
   "cell_type": "code",
   "execution_count": null,
   "id": "69b9e3c0",
   "metadata": {},
   "outputs": [],
   "source": [
    "# 27.5% of psychology preprints do not get published in either Journals or at Conferences "
   ]
  },
  {
   "cell_type": "markdown",
   "id": "0a04bd90",
   "metadata": {},
   "source": [
    "# check replications"
   ]
  },
  {
   "cell_type": "code",
   "execution_count": 50,
   "id": "25339ba4",
   "metadata": {},
   "outputs": [],
   "source": [
    "keyword = \"replicat\""
   ]
  },
  {
   "cell_type": "code",
   "execution_count": 35,
   "id": "e819b26c",
   "metadata": {},
   "outputs": [
    {
     "data": {
      "text/html": [
       "<div>\n",
       "<style scoped>\n",
       "    .dataframe tbody tr th:only-of-type {\n",
       "        vertical-align: middle;\n",
       "    }\n",
       "\n",
       "    .dataframe tbody tr th {\n",
       "        vertical-align: top;\n",
       "    }\n",
       "\n",
       "    .dataframe thead th {\n",
       "        text-align: right;\n",
       "    }\n",
       "</style>\n",
       "<table border=\"1\" class=\"dataframe\">\n",
       "  <thead>\n",
       "    <tr style=\"text-align: right;\">\n",
       "      <th></th>\n",
       "      <th>FamilyId</th>\n",
       "      <th>PaperTitle</th>\n",
       "      <th>DocType</th>\n",
       "    </tr>\n",
       "  </thead>\n",
       "  <tbody>\n",
       "    <tr>\n",
       "      <th>0</th>\n",
       "      <td>16083728</td>\n",
       "      <td>the virtue ethics hypothesis is there a nexus ...</td>\n",
       "      <td>Repository</td>\n",
       "    </tr>\n",
       "    <tr>\n",
       "      <th>2</th>\n",
       "      <td>64646616</td>\n",
       "      <td>how often to a museum motivations matter</td>\n",
       "      <td>Repository</td>\n",
       "    </tr>\n",
       "    <tr>\n",
       "      <th>4</th>\n",
       "      <td>81493280</td>\n",
       "      <td>ambiguous proximity distribution</td>\n",
       "      <td>Repository</td>\n",
       "    </tr>\n",
       "    <tr>\n",
       "      <th>5</th>\n",
       "      <td>81493280</td>\n",
       "      <td>ambiguous proximity distribution</td>\n",
       "      <td>Conference</td>\n",
       "    </tr>\n",
       "    <tr>\n",
       "      <th>6</th>\n",
       "      <td>99661415</td>\n",
       "      <td>becker meets ricardo a social and cognitive sk...</td>\n",
       "      <td>Repository</td>\n",
       "    </tr>\n",
       "  </tbody>\n",
       "</table>\n",
       "</div>"
      ],
      "text/plain": [
       "   FamilyId                                         PaperTitle     DocType\n",
       "0  16083728  the virtue ethics hypothesis is there a nexus ...  Repository\n",
       "2  64646616           how often to a museum motivations matter  Repository\n",
       "4  81493280                   ambiguous proximity distribution  Repository\n",
       "5  81493280                   ambiguous proximity distribution  Conference\n",
       "6  99661415  becker meets ricardo a social and cognitive sk...  Repository"
      ]
     },
     "execution_count": 35,
     "metadata": {},
     "output_type": "execute_result"
    }
   ],
   "source": [
    "psych_pairs.head(5)"
   ]
  },
  {
   "cell_type": "code",
   "execution_count": 51,
   "id": "f7e34d31",
   "metadata": {},
   "outputs": [],
   "source": [
    "df_keyword_preprint = psych_pairs[psych_pairs[\"DocType\"] == \"Repository\"]"
   ]
  },
  {
   "cell_type": "code",
   "execution_count": 53,
   "id": "3c55b7c3",
   "metadata": {},
   "outputs": [],
   "source": [
    "df_keyword_preprint = df_keyword_preprint.loc[df_keyword_preprint['PaperTitle'].str.contains(\"replicat\", case=False)]"
   ]
  },
  {
   "cell_type": "code",
   "execution_count": 54,
   "id": "12a64034",
   "metadata": {},
   "outputs": [
    {
     "data": {
      "text/plain": [
       "60"
      ]
     },
     "execution_count": 54,
     "metadata": {},
     "output_type": "execute_result"
    }
   ],
   "source": [
    "len(df_keyword) # we have very few papers here"
   ]
  },
  {
   "cell_type": "code",
   "execution_count": null,
   "id": "4ef3d2f0",
   "metadata": {},
   "outputs": [],
   "source": [
    "# merge back in "
   ]
  },
  {
   "cell_type": "code",
   "execution_count": 66,
   "id": "fb17c52e",
   "metadata": {},
   "outputs": [],
   "source": [
    "replication_ids = list(df_keyword[\"FamilyId\"])"
   ]
  },
  {
   "cell_type": "code",
   "execution_count": 67,
   "id": "fd292184",
   "metadata": {},
   "outputs": [],
   "source": [
    "psych_pairs[\"keyword\"] = ['match' if x in replication_ids else \"no_match\" for x in psych_pairs[\"FamilyId\"]]"
   ]
  },
  {
   "cell_type": "code",
   "execution_count": 72,
   "id": "8c4651c0",
   "metadata": {},
   "outputs": [
    {
     "data": {
      "text/html": [
       "<div>\n",
       "<style scoped>\n",
       "    .dataframe tbody tr th:only-of-type {\n",
       "        vertical-align: middle;\n",
       "    }\n",
       "\n",
       "    .dataframe tbody tr th {\n",
       "        vertical-align: top;\n",
       "    }\n",
       "\n",
       "    .dataframe thead th {\n",
       "        text-align: right;\n",
       "    }\n",
       "</style>\n",
       "<table border=\"1\" class=\"dataframe\">\n",
       "  <thead>\n",
       "    <tr style=\"text-align: right;\">\n",
       "      <th></th>\n",
       "      <th>keyword</th>\n",
       "      <th>n_replicat</th>\n",
       "    </tr>\n",
       "  </thead>\n",
       "  <tbody>\n",
       "    <tr>\n",
       "      <th>0</th>\n",
       "      <td>match</td>\n",
       "      <td>105</td>\n",
       "    </tr>\n",
       "    <tr>\n",
       "      <th>1</th>\n",
       "      <td>no_match</td>\n",
       "      <td>60603</td>\n",
       "    </tr>\n",
       "  </tbody>\n",
       "</table>\n",
       "</div>"
      ],
      "text/plain": [
       "    keyword  n_replicat\n",
       "0     match         105\n",
       "1  no_match       60603"
      ]
     },
     "execution_count": 72,
     "metadata": {},
     "output_type": "execute_result"
    }
   ],
   "source": [
    "# was 100 when doing simple matching, we want everything that was ORIGINALLY (in preprint) *replicat*\n",
    "# so this is good in other words \n",
    "psych_pairs.groupby('keyword').size().reset_index(name = 'n_replicat').head()"
   ]
  },
  {
   "cell_type": "code",
   "execution_count": 73,
   "id": "b96e61eb",
   "metadata": {},
   "outputs": [
    {
     "data": {
      "text/html": [
       "<div>\n",
       "<style scoped>\n",
       "    .dataframe tbody tr th:only-of-type {\n",
       "        vertical-align: middle;\n",
       "    }\n",
       "\n",
       "    .dataframe tbody tr th {\n",
       "        vertical-align: top;\n",
       "    }\n",
       "\n",
       "    .dataframe thead th {\n",
       "        text-align: right;\n",
       "    }\n",
       "</style>\n",
       "<table border=\"1\" class=\"dataframe\">\n",
       "  <thead>\n",
       "    <tr style=\"text-align: right;\">\n",
       "      <th></th>\n",
       "      <th>FamilyId</th>\n",
       "      <th>PaperTitle</th>\n",
       "      <th>DocType</th>\n",
       "      <th>keyword</th>\n",
       "    </tr>\n",
       "  </thead>\n",
       "  <tbody>\n",
       "    <tr>\n",
       "      <th>0</th>\n",
       "      <td>16083728</td>\n",
       "      <td>the virtue ethics hypothesis is there a nexus ...</td>\n",
       "      <td>Repository</td>\n",
       "      <td>no_match</td>\n",
       "    </tr>\n",
       "    <tr>\n",
       "      <th>2</th>\n",
       "      <td>64646616</td>\n",
       "      <td>how often to a museum motivations matter</td>\n",
       "      <td>Repository</td>\n",
       "      <td>no_match</td>\n",
       "    </tr>\n",
       "    <tr>\n",
       "      <th>4</th>\n",
       "      <td>81493280</td>\n",
       "      <td>ambiguous proximity distribution</td>\n",
       "      <td>Repository</td>\n",
       "      <td>no_match</td>\n",
       "    </tr>\n",
       "    <tr>\n",
       "      <th>5</th>\n",
       "      <td>81493280</td>\n",
       "      <td>ambiguous proximity distribution</td>\n",
       "      <td>Conference</td>\n",
       "      <td>no_match</td>\n",
       "    </tr>\n",
       "    <tr>\n",
       "      <th>6</th>\n",
       "      <td>99661415</td>\n",
       "      <td>becker meets ricardo a social and cognitive sk...</td>\n",
       "      <td>Repository</td>\n",
       "      <td>no_match</td>\n",
       "    </tr>\n",
       "  </tbody>\n",
       "</table>\n",
       "</div>"
      ],
      "text/plain": [
       "   FamilyId                                         PaperTitle     DocType  \\\n",
       "0  16083728  the virtue ethics hypothesis is there a nexus ...  Repository   \n",
       "2  64646616           how often to a museum motivations matter  Repository   \n",
       "4  81493280                   ambiguous proximity distribution  Repository   \n",
       "5  81493280                   ambiguous proximity distribution  Conference   \n",
       "6  99661415  becker meets ricardo a social and cognitive sk...  Repository   \n",
       "\n",
       "    keyword  \n",
       "0  no_match  \n",
       "2  no_match  \n",
       "4  no_match  \n",
       "5  no_match  \n",
       "6  no_match  "
      ]
     },
     "execution_count": 73,
     "metadata": {},
     "output_type": "execute_result"
    }
   ],
   "source": [
    "psych_pairs.head(5)"
   ]
  },
  {
   "cell_type": "code",
   "execution_count": null,
   "id": "07a6bffb",
   "metadata": {},
   "outputs": [],
   "source": [
    "# subset the *match* records"
   ]
  },
  {
   "cell_type": "code",
   "execution_count": 74,
   "id": "7c38e38e",
   "metadata": {},
   "outputs": [],
   "source": [
    "df_match = psych_pairs[psych_pairs[\"keyword\"] == \"match\"]"
   ]
  },
  {
   "cell_type": "code",
   "execution_count": 76,
   "id": "41cc58a7",
   "metadata": {},
   "outputs": [],
   "source": [
    "df_match = df_match.groupby('FamilyId').size().reset_index(name = 'n_family').groupby('n_family').size().reset_index(name = 'occurence')"
   ]
  },
  {
   "cell_type": "code",
   "execution_count": 77,
   "id": "77a08ee9",
   "metadata": {},
   "outputs": [],
   "source": [
    "keyword_fraction = df_match.assign(fraction = lambda x: x[\"occurence\"]/sum(x[\"occurence\"]))"
   ]
  },
  {
   "cell_type": "code",
   "execution_count": 78,
   "id": "6ee83a4c",
   "metadata": {},
   "outputs": [
    {
     "data": {
      "text/html": [
       "<div>\n",
       "<style scoped>\n",
       "    .dataframe tbody tr th:only-of-type {\n",
       "        vertical-align: middle;\n",
       "    }\n",
       "\n",
       "    .dataframe tbody tr th {\n",
       "        vertical-align: top;\n",
       "    }\n",
       "\n",
       "    .dataframe thead th {\n",
       "        text-align: right;\n",
       "    }\n",
       "</style>\n",
       "<table border=\"1\" class=\"dataframe\">\n",
       "  <thead>\n",
       "    <tr style=\"text-align: right;\">\n",
       "      <th></th>\n",
       "      <th>n_family</th>\n",
       "      <th>occurence</th>\n",
       "      <th>fraction</th>\n",
       "    </tr>\n",
       "  </thead>\n",
       "  <tbody>\n",
       "    <tr>\n",
       "      <th>0</th>\n",
       "      <td>1</td>\n",
       "      <td>16</td>\n",
       "      <td>0.271186</td>\n",
       "    </tr>\n",
       "    <tr>\n",
       "      <th>1</th>\n",
       "      <td>2</td>\n",
       "      <td>40</td>\n",
       "      <td>0.677966</td>\n",
       "    </tr>\n",
       "    <tr>\n",
       "      <th>2</th>\n",
       "      <td>3</td>\n",
       "      <td>3</td>\n",
       "      <td>0.050847</td>\n",
       "    </tr>\n",
       "  </tbody>\n",
       "</table>\n",
       "</div>"
      ],
      "text/plain": [
       "   n_family  occurence  fraction\n",
       "0         1         16  0.271186\n",
       "1         2         40  0.677966\n",
       "2         3          3  0.050847"
      ]
     },
     "execution_count": 78,
     "metadata": {},
     "output_type": "execute_result"
    }
   ],
   "source": [
    "keyword_fraction # 27.1% are only published as preprints (same as original). "
   ]
  }
 ],
 "metadata": {
  "kernelspec": {
   "display_name": "Python (nerdenv)",
   "language": "python",
   "name": "nerdenv"
  },
  "language_info": {
   "codemirror_mode": {
    "name": "ipython",
    "version": 3
   },
   "file_extension": ".py",
   "mimetype": "text/x-python",
   "name": "python",
   "nbconvert_exporter": "python",
   "pygments_lexer": "ipython3",
   "version": "3.8.8"
  }
 },
 "nbformat": 4,
 "nbformat_minor": 5
}
