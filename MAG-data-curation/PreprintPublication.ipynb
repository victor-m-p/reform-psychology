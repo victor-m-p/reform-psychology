{
 "cells": [
  {
   "cell_type": "code",
   "execution_count": 1,
   "id": "079ff40a",
   "metadata": {},
   "outputs": [
    {
     "data": {
      "text/plain": [
       "'\\nVMP 2022-03-10: \\nChecking fraction of publications getting from preprint to publication stage. \\nUsing early preprocessing from \"preprocessing\". \\n'"
      ]
     },
     "execution_count": 1,
     "metadata": {},
     "output_type": "execute_result"
    }
   ],
   "source": [
    "'''\n",
    "VMP 2022-03-10: \n",
    "Checking fraction of publications getting from preprint to publication stage. \n",
    "Using early preprocessing from \"preprocessing\" (all psychology papers). \n",
    "'''"
   ]
  },
  {
   "cell_type": "code",
   "execution_count": 2,
   "id": "3a5aba02",
   "metadata": {},
   "outputs": [
    {
     "name": "stdout",
     "output_type": "stream",
     "text": [
      "['NAME STATE JOBID', 'mpi RUNNING 67405', 'cluster_new.job RUNNING 67299', 'run_all_benchmarks.job RUNNING 67318', 'jupyter-notebook RUNNING 67298', '4.train.0 RUNNING 67406', '4.train.1 RUNNING 67407', '4.train.2 RUNNING 67408', '4.train.3 RUNNING 67409', 'bash RUNNING 67402', 'jupyter-notebook RUNNING 67397', '']\n"
     ]
    }
   ],
   "source": [
    "import sys  \n",
    "sys.path.insert(0, '/home/vicp/reform-psychology/MAG-data-curation')\n",
    "from MAGsparkmasters import get_mag_with_cluster_connection\n",
    "from MAGmasters import MicrosoftAcademicGraph\n",
    "import os\n",
    "from pyspark.sql import functions as F, Window\n",
    "import pandas as pd\n",
    "import matplotlib.pyplot as plt\n",
    "import datetime, time\n",
    "import numpy as np\n",
    "from pyspark.sql.functions import avg\n",
    "os.chdir('/home/vicp/reform-psychology/MAG-data-curation')\n",
    "mag, spark = get_mag_with_cluster_connection(67299, \n",
    "                               memory_per_executor=16000)"
   ]
  },
  {
   "cell_type": "code",
   "execution_count": 3,
   "id": "30e5117d",
   "metadata": {},
   "outputs": [
    {
     "data": {
      "text/html": [
       "\n",
       "            <div>\n",
       "                <p><b>SparkSession - in-memory</b></p>\n",
       "                \n",
       "        <div>\n",
       "            <p><b>SparkContext</b></p>\n",
       "\n",
       "            <p><a href=\"http://desktop12.hpc.itu.dk:4040\">Spark UI</a></p>\n",
       "\n",
       "            <dl>\n",
       "              <dt>Version</dt>\n",
       "                <dd><code>v3.0.3</code></dd>\n",
       "              <dt>Master</dt>\n",
       "                <dd><code>spark://172.16.16.101:7077</code></dd>\n",
       "              <dt>AppName</dt>\n",
       "                <dd><code>pyspark-shell</code></dd>\n",
       "            </dl>\n",
       "        </div>\n",
       "        \n",
       "            </div>\n",
       "        "
      ],
      "text/plain": [
       "<pyspark.sql.session.SparkSession at 0x7f01256f23a0>"
      ]
     },
     "execution_count": 3,
     "metadata": {},
     "output_type": "execute_result"
    }
   ],
   "source": [
    "spark"
   ]
  },
  {
   "cell_type": "markdown",
   "id": "1216ecb9",
   "metadata": {},
   "source": [
    "# Load data\n",
    "Data-sets curated in \"preprocessing\". <br/>\n",
    "Taking the full data-sets for psychology, economy, sociology and political science. "
   ]
  },
  {
   "cell_type": "code",
   "execution_count": 4,
   "id": "85b417b7",
   "metadata": {},
   "outputs": [],
   "source": [
    "psychology = mag.getDataframe('psychology_papers')"
   ]
  },
  {
   "cell_type": "code",
   "execution_count": 5,
   "id": "f75944c2",
   "metadata": {},
   "outputs": [],
   "source": [
    "papers = mag.getDataframe('Papers')"
   ]
  },
  {
   "cell_type": "markdown",
   "id": "9d4be6cb",
   "metadata": {},
   "source": [
    "# Select preprint data\n",
    "only to 2020 because there can be delay from preprint to publication. "
   ]
  },
  {
   "cell_type": "code",
   "execution_count": 6,
   "id": "f9c4da3c",
   "metadata": {},
   "outputs": [],
   "source": [
    "psychology_preprints = papers.join(psychology, ['PaperId'], 'inner') \\\n",
    "    .filter(F.col('DocType') == 'Repository') \\\n",
    "    .filter((F.col('Date') >= datetime.date(2005, 1, 1)) & (F.col('Date') <= datetime.date(2020, 1, 1))) \\\n",
    "    .select('PaperId', 'FamilyId', 'PaperTitle', 'DocType', 'Date') \\\n",
    "    .distinct()"
   ]
  },
  {
   "cell_type": "markdown",
   "id": "c846c6d1",
   "metadata": {},
   "source": [
    "# Join by FamilyId\n",
    "NB: some papers will not have a FamilyId, which we account for."
   ]
  },
  {
   "cell_type": "code",
   "execution_count": 7,
   "id": "7703f7c3",
   "metadata": {},
   "outputs": [],
   "source": [
    "psychology_selection = psychology_preprints.select('FamilyId') \\\n",
    "    .join(papers, ['FamilyId'], 'inner') \\\n",
    "    .select('PaperId', 'FamilyId', 'PaperTitle', 'DocType', 'Date') \\\n",
    "    .distinct()"
   ]
  },
  {
   "cell_type": "markdown",
   "id": "6e40c0c0",
   "metadata": {},
   "source": [
    "# Convert to pandas"
   ]
  },
  {
   "cell_type": "code",
   "execution_count": 8,
   "id": "e7062029",
   "metadata": {},
   "outputs": [],
   "source": [
    "# should probably just save here & do the rest of the analysis on Ucloud\n",
    "psych_pp_df = psychology_preprints.toPandas()\n",
    "psych_fam_df = psychology_selection.toPandas()"
   ]
  },
  {
   "cell_type": "markdown",
   "id": "07fde1c3",
   "metadata": {},
   "source": [
    "# Keyword / Query"
   ]
  },
  {
   "cell_type": "code",
   "execution_count": 9,
   "id": "d8481d6e",
   "metadata": {},
   "outputs": [],
   "source": [
    "psych_pp_keyword = psych_pp_df.loc[psych_pp_df['PaperTitle'].str.contains(\"replicat\", case=False)]"
   ]
  },
  {
   "cell_type": "code",
   "execution_count": 10,
   "id": "90eb0d7a",
   "metadata": {},
   "outputs": [],
   "source": [
    "## prepare keyword subset \n",
    "def prepare_keys(df_keyword, df_family): \n",
    "    '''\n",
    "    df_keyword: <pd.dataframe> the dataframe with preprints that match keywords \n",
    "    df_family: <pd.dataframe> the dataframe of preprints that are matched with family id \n",
    "    '''\n",
    "    df_keyword_fam = df_keyword[~df_keyword[\"FamilyId\"].isnull()]\n",
    "    df_keyword_paperid = df_keyword_fam[[\"PaperId\"]].drop_duplicates()\n",
    "    df_family_keyword = df_keyword_paperid.merge(df_family,\n",
    "                                                    on = 'PaperId', \n",
    "                                                    how = 'outer', \n",
    "                                                    indicator = True)\n",
    "    df_family_sub = df_family_keyword[df_family_keyword['_merge'] == 'both'][[\"FamilyId\"]]\n",
    "    df_keyword_family = df_family_keyword.merge(df_family_sub, on = 'FamilyId', how = 'inner')\n",
    "    return df_keyword_family"
   ]
  },
  {
   "cell_type": "code",
   "execution_count": 11,
   "id": "622f51c6",
   "metadata": {},
   "outputs": [],
   "source": [
    "psych_key_fam = prepare_keys(psych_pp_keyword, psych_fam_df)"
   ]
  },
  {
   "cell_type": "markdown",
   "id": "70e30bb5",
   "metadata": {},
   "source": [
    "# total number of preprints (match & no-match)"
   ]
  },
  {
   "cell_type": "code",
   "execution_count": 12,
   "id": "3937cdad",
   "metadata": {},
   "outputs": [],
   "source": [
    "total_preprints = len(psych_pp_df)\n",
    "total_preprints_keyword = len(psych_pp_keyword)"
   ]
  },
  {
   "cell_type": "markdown",
   "id": "010ce7ef",
   "metadata": {},
   "source": [
    "# Get fraction that get published later"
   ]
  },
  {
   "cell_type": "code",
   "execution_count": 13,
   "id": "2f640e9b",
   "metadata": {},
   "outputs": [],
   "source": [
    "def get_fraction(df_family, total_preprints): \n",
    "    '''\n",
    "    df_family: <pd.dataframe> the preprints that are matched on FamilyId\n",
    "    df_preprints: <int> total number of preprints before matching.\n",
    "    '''\n",
    "    doctype_lst = ['Journal', 'Conference']\n",
    "    df_focus = df_family[df_family[\"DocType\"].isin([\"Repository\", \"Conference\", \"Journal\"])]\n",
    "    df_maxdate = df_focus.groupby('FamilyId')['Date'].max().reset_index(name = 'Date')\n",
    "    df_lastpub = df_maxdate.merge(df_focus, on = ['FamilyId', 'Date'], how = 'inner')\n",
    "    df_peerreview = df_lastpub[df_lastpub[\"DocType\"].isin(doctype_lst)]\n",
    "    total_peerreview = len(df_peerreview)\n",
    "    print(f\"total preprints: {total_preprints}\")\n",
    "    print(f\"total preprint --> publication: {total_peerreview}\")\n",
    "    print(f\"total fraction preprint --> publication: {round(total_peerreview/total_preprints*100, 2)}%\")"
   ]
  },
  {
   "cell_type": "code",
   "execution_count": 14,
   "id": "b3f1e6fb",
   "metadata": {},
   "outputs": [
    {
     "name": "stdout",
     "output_type": "stream",
     "text": [
      "total preprints: 71836\n",
      "total preprint --> publication: 14770\n",
      "total fraction preprint --> publication: 20.56%\n"
     ]
    }
   ],
   "source": [
    "# get fraction of overall psychology papers\n",
    "get_fraction(psych_fam_df, total_preprints)"
   ]
  },
  {
   "cell_type": "code",
   "execution_count": 15,
   "id": "97b8b359",
   "metadata": {},
   "outputs": [
    {
     "name": "stdout",
     "output_type": "stream",
     "text": [
      "total preprints: 126\n",
      "total preprint --> publication: 36\n",
      "total fraction preprint --> publication: 28.57%\n"
     ]
    }
   ],
   "source": [
    "# get fraction of psychology papers that match keyword: \n",
    "get_fraction(psych_key_fam, total_preprints_keyword)"
   ]
  }
 ],
 "metadata": {
  "kernelspec": {
   "display_name": "Python (nerdenv)",
   "language": "python",
   "name": "nerdenv"
  },
  "language_info": {
   "codemirror_mode": {
    "name": "ipython",
    "version": 3
   },
   "file_extension": ".py",
   "mimetype": "text/x-python",
   "name": "python",
   "nbconvert_exporter": "python",
   "pygments_lexer": "ipython3",
   "version": "3.8.8"
  }
 },
 "nbformat": 4,
 "nbformat_minor": 5
}
