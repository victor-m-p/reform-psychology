{
 "cells": [
  {
   "cell_type": "code",
   "execution_count": null,
   "id": "93df3fb8",
   "metadata": {},
   "outputs": [],
   "source": [
    "'''\n",
    "VMP 2022-02-22: \n",
    "sanity check document. \n",
    "some papers are in paper_ref and paper_author but not in meta. \n",
    "because of the filters. \n",
    "here we check / show that the filters are reasonable. \n",
    "this file can be deleted again (only kept for convenience)\n",
    "'''"
   ]
  },
  {
   "cell_type": "code",
   "execution_count": 1,
   "id": "25c19eca",
   "metadata": {},
   "outputs": [
    {
     "name": "stdout",
     "output_type": "stream",
     "text": [
      "['NAME STATE JOBID', 'cluster_new.job RUNNING 66699', 'cluster_new.job RUNNING 66698', 'jupyter-notebook RUNNING 66697', 'train-gan RUNNING 66694', 'train-gan RUNNING 66518', '']\n"
     ]
    }
   ],
   "source": [
    "import sys  \n",
    "sys.path.insert(0, '/home/vicp')\n",
    "from MAGsparkmasters import get_mag_with_cluster_connection\n",
    "from MAGmasters import MicrosoftAcademicGraph\n",
    "import os\n",
    "from pyspark.sql import functions as F, Window\n",
    "import pandas as pd\n",
    "import matplotlib.pyplot as plt\n",
    "import datetime, time\n",
    "import numpy as np\n",
    "from pyspark.sql.functions import avg\n",
    "os.chdir('/home/vicp')\n",
    "mag, spark = get_mag_with_cluster_connection(66699, \n",
    "                               memory_per_executor=16000)"
   ]
  },
  {
   "cell_type": "code",
   "execution_count": 2,
   "id": "73c1a10a",
   "metadata": {},
   "outputs": [
    {
     "data": {
      "text/html": [
       "\n",
       "            <div>\n",
       "                <p><b>SparkSession - in-memory</b></p>\n",
       "                \n",
       "        <div>\n",
       "            <p><b>SparkContext</b></p>\n",
       "\n",
       "            <p><a href=\"http://desktop3.hpc.itu.dk:4041\">Spark UI</a></p>\n",
       "\n",
       "            <dl>\n",
       "              <dt>Version</dt>\n",
       "                <dd><code>v3.0.3</code></dd>\n",
       "              <dt>Master</dt>\n",
       "                <dd><code>spark://172.16.16.104:7078</code></dd>\n",
       "              <dt>AppName</dt>\n",
       "                <dd><code>pyspark-shell</code></dd>\n",
       "            </dl>\n",
       "        </div>\n",
       "        \n",
       "            </div>\n",
       "        "
      ],
      "text/plain": [
       "<pyspark.sql.session.SparkSession at 0x7f29c8edf250>"
      ]
     },
     "execution_count": 2,
     "metadata": {},
     "output_type": "execute_result"
    }
   ],
   "source": [
    "spark"
   ]
  },
  {
   "cell_type": "code",
   "execution_count": null,
   "id": "8babfc7e",
   "metadata": {},
   "outputs": [],
   "source": [
    "# stress testing something\n",
    "fos = 'psychology'\n",
    "focusid = 2085043535 # this one was actually about replication (with replication in title) - did not have level 0 fos, but did have level 1 fos (data science)\n",
    "focusid = 1960674264 # does not even have a fild of study and is in spanish\n",
    "# generally seems that they are low quality papers"
   ]
  },
  {
   "cell_type": "code",
   "execution_count": null,
   "id": "0326df1e",
   "metadata": {},
   "outputs": [],
   "source": [
    "# load files \n",
    "papers = mag.getSubset('Papers', ['PaperId', 'PaperTitle', 'DocType', 'Date']) # PaperId, DocType, Date, FamilyId. \n",
    "fos_papers = mag.getDataframe(f'{fos}_total') # PaperId\n",
    "pfs = mag.getDataframe('PaperFieldsOfStudy') # couples PaperId and FieldOfStudyId\n",
    "FoS = mag.getDataframe('FoS') # couples FieldOfStudyId and NormalizedName"
   ]
  },
  {
   "cell_type": "code",
   "execution_count": null,
   "id": "2d2e94f5",
   "metadata": {},
   "outputs": [],
   "source": [
    "fos_papers.filter(fos_papers.PaperId == focusid).show(truncate=False)"
   ]
  },
  {
   "cell_type": "code",
   "execution_count": null,
   "id": "ecf3cd94",
   "metadata": {},
   "outputs": [],
   "source": [
    "step1 = papers.filter(papers.PaperId == focusid)"
   ]
  },
  {
   "cell_type": "code",
   "execution_count": null,
   "id": "a626a1f7",
   "metadata": {},
   "outputs": [],
   "source": [
    "step1.show(truncate=False) # matches search term?"
   ]
  },
  {
   "cell_type": "code",
   "execution_count": null,
   "id": "11fdb33d",
   "metadata": {},
   "outputs": [],
   "source": [
    "step2 = step1.join(pfs, ['PaperId'], 'inner')"
   ]
  },
  {
   "cell_type": "code",
   "execution_count": null,
   "id": "6975203a",
   "metadata": {},
   "outputs": [],
   "source": [
    "step2.show(truncate=False)"
   ]
  },
  {
   "cell_type": "code",
   "execution_count": null,
   "id": "3c25c791",
   "metadata": {},
   "outputs": [],
   "source": [
    "step3 = step2.join(FoS, ['FieldOfStudyId'], 'inner')"
   ]
  },
  {
   "cell_type": "code",
   "execution_count": null,
   "id": "f38f1b78",
   "metadata": {},
   "outputs": [],
   "source": [
    "step3.show(truncate=False)"
   ]
  },
  {
   "cell_type": "code",
   "execution_count": null,
   "id": "b48e333d",
   "metadata": {},
   "outputs": [],
   "source": [
    "step4 = step3.filter(F.col('level') == 0)"
   ]
  },
  {
   "cell_type": "code",
   "execution_count": null,
   "id": "8547a6c2",
   "metadata": {},
   "outputs": [],
   "source": [
    "step4.show(truncate=False)"
   ]
  },
  {
   "cell_type": "markdown",
   "id": "0951f13a",
   "metadata": {},
   "source": [
    "## check that there are only unique paper-ids in meta"
   ]
  },
  {
   "cell_type": "code",
   "execution_count": 1,
   "id": "a3dd4686",
   "metadata": {},
   "outputs": [],
   "source": [
    "import pandas as pd "
   ]
  },
  {
   "cell_type": "code",
   "execution_count": 2,
   "id": "896ab2d0",
   "metadata": {},
   "outputs": [],
   "source": [
    "meta_clean = pd.read_csv(\"/home/vicp/data/2021-08-02/masters/psychology_paper_meta_clean.csv\")"
   ]
  },
  {
   "cell_type": "code",
   "execution_count": 3,
   "id": "a14869cc",
   "metadata": {},
   "outputs": [
    {
     "data": {
      "text/html": [
       "<div>\n",
       "<style scoped>\n",
       "    .dataframe tbody tr th:only-of-type {\n",
       "        vertical-align: middle;\n",
       "    }\n",
       "\n",
       "    .dataframe tbody tr th {\n",
       "        vertical-align: top;\n",
       "    }\n",
       "\n",
       "    .dataframe thead th {\n",
       "        text-align: right;\n",
       "    }\n",
       "</style>\n",
       "<table border=\"1\" class=\"dataframe\">\n",
       "  <thead>\n",
       "    <tr style=\"text-align: right;\">\n",
       "      <th></th>\n",
       "      <th>N</th>\n",
       "      <th>frequency</th>\n",
       "    </tr>\n",
       "  </thead>\n",
       "  <tbody>\n",
       "    <tr>\n",
       "      <th>0</th>\n",
       "      <td>1</td>\n",
       "      <td>4753942</td>\n",
       "    </tr>\n",
       "  </tbody>\n",
       "</table>\n",
       "</div>"
      ],
      "text/plain": [
       "   N  frequency\n",
       "0  1    4753942"
      ]
     },
     "execution_count": 3,
     "metadata": {},
     "output_type": "execute_result"
    }
   ],
   "source": [
    "meta_clean.groupby('PaperId').size().reset_index(name = 'N').groupby('N').size().reset_index(name = 'frequency')"
   ]
  },
  {
   "cell_type": "markdown",
   "id": "5d1b587e",
   "metadata": {},
   "source": [
    "# do we have some duplicate FamilyId in subset?\n",
    "Could be that some of the papers are BOTH published as Journal & as Conference. "
   ]
  },
  {
   "cell_type": "code",
   "execution_count": 10,
   "id": "31ca9d21",
   "metadata": {},
   "outputs": [],
   "source": [
    "def subset_data_check(fos): \n",
    "    papers = mag.getDataframe('Papers') # PaperId, DocType, Date, FamilyId. \n",
    "    fos_papers = mag.getDataframe(f'{fos}_papers') # FieldOfStudyID, PaperId\n",
    "    \n",
    "    # filter papers first - core data set. \n",
    "    sub = papers.filter((F.col('DocType') == 'Journal') | (F.col('DocType') == 'Conference')) \\\n",
    "        .filter((F.col('Date') >= datetime.date(2005, 1, 1)) & (F.col('Date') <= datetime.date(2021, 1, 1))) \\\n",
    "        .join(fos_papers, ['PaperId'], 'inner') \\\n",
    "        .select('PaperId', 'DocType', 'FamilyId', 'Date') \\\n",
    "        .distinct()\n",
    "    print(f\"{fos} dtypes: {sub.dtypes}\")\n",
    "    \n",
    "    return sub"
   ]
  },
  {
   "cell_type": "code",
   "execution_count": 11,
   "id": "7ad9b241",
   "metadata": {},
   "outputs": [
    {
     "name": "stdout",
     "output_type": "stream",
     "text": [
      "psychology dtypes: [('PaperId', 'bigint'), ('DocType', 'string'), ('FamilyId', 'bigint'), ('Date', 'date')]\n"
     ]
    }
   ],
   "source": [
    "psych = subset_data_check('psychology')"
   ]
  },
  {
   "cell_type": "code",
   "execution_count": 14,
   "id": "22bebc5b",
   "metadata": {},
   "outputs": [
    {
     "data": {
      "text/plain": [
       "31397"
      ]
     },
     "execution_count": 14,
     "metadata": {},
     "output_type": "execute_result"
    }
   ],
   "source": [
    "psych.select('FamilyId').distinct().count()"
   ]
  },
  {
   "cell_type": "code",
   "execution_count": 16,
   "id": "e2363c21",
   "metadata": {},
   "outputs": [
    {
     "data": {
      "text/plain": [
       "2498885"
      ]
     },
     "execution_count": 16,
     "metadata": {},
     "output_type": "execute_result"
    }
   ],
   "source": [
    "psych.select('PaperId').distinct().count()"
   ]
  },
  {
   "cell_type": "code",
   "execution_count": 17,
   "id": "ebc28c89",
   "metadata": {},
   "outputs": [
    {
     "data": {
      "text/plain": [
       "2498885"
      ]
     },
     "execution_count": 17,
     "metadata": {},
     "output_type": "execute_result"
    }
   ],
   "source": [
    "psych.distinct().count()"
   ]
  },
  {
   "cell_type": "code",
   "execution_count": null,
   "id": "5406275c",
   "metadata": {},
   "outputs": [],
   "source": [
    "# check up on this"
   ]
  },
  {
   "cell_type": "code",
   "execution_count": 18,
   "id": "5c3ffd3c",
   "metadata": {},
   "outputs": [
    {
     "name": "stdout",
     "output_type": "stream",
     "text": [
      "+-------+----------+--------+----------+\n",
      "|PaperId|   DocType|FamilyId|      Date|\n",
      "+-------+----------+--------+----------+\n",
      "|  42997|   Journal|    null|2007-01-01|\n",
      "| 109356|   Journal|    null|2013-01-01|\n",
      "| 261577|   Journal|    null|2007-01-01|\n",
      "| 289171|   Journal|    null|2009-01-01|\n",
      "| 310575|   Journal|    null|2005-01-01|\n",
      "| 406435|   Journal|    null|2012-05-28|\n",
      "| 540469|   Journal|    null|2010-06-27|\n",
      "| 605810|Conference|    null|2013-01-01|\n",
      "| 669189|   Journal|    null|2007-01-01|\n",
      "| 777721|Conference|    null|2012-01-01|\n",
      "| 957813|   Journal|    null|2013-10-01|\n",
      "|1063622|   Journal|    null|2006-12-01|\n",
      "|1118937|   Journal|    null|2007-04-10|\n",
      "|1310691|   Journal|    null|2010-12-01|\n",
      "|1530461|   Journal|    null|2005-11-01|\n",
      "|1682525|Conference|    null|2010-07-08|\n",
      "|1719704|   Journal|    null|2011-01-01|\n",
      "|1749997|   Journal|    null|2011-10-01|\n",
      "|1854942|   Journal|    null|2005-10-01|\n",
      "|1865112|   Journal|    null|2012-07-31|\n",
      "+-------+----------+--------+----------+\n",
      "only showing top 20 rows\n",
      "\n"
     ]
    }
   ],
   "source": [
    "psych.show(20)"
   ]
  }
 ],
 "metadata": {
  "kernelspec": {
   "display_name": "Python (nerdenv)",
   "language": "python",
   "name": "nerdenv"
  },
  "language_info": {
   "codemirror_mode": {
    "name": "ipython",
    "version": 3
   },
   "file_extension": ".py",
   "mimetype": "text/x-python",
   "name": "python",
   "nbconvert_exporter": "python",
   "pygments_lexer": "ipython3",
   "version": "3.8.8"
  }
 },
 "nbformat": 4,
 "nbformat_minor": 5
}
